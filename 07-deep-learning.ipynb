{
 "cells": [
  {
   "cell_type": "markdown",
   "metadata": {},
   "source": [
    "# Deep Learning with keras"
   ]
  },
  {
   "cell_type": "markdown",
   "metadata": {},
   "source": [
    "In this workshop, we will try to build some feedforward models to do sentiment analysis, using keras, a deep learning library: https://keras.io/\n",
    "\n",
    "You will need pandas, keras (2.3.1) and tensorflow (2.1.0; and their dependencies) to run this code (pip install pandas keras==2.3.1 tensorflow-cpu==2.1.0)."
   ]
  },
  {
   "cell_type": "markdown",
   "metadata": {},
   "source": [
    "First let's prepare the data. We are using 1000 yelp reviews, nnotated with either positive or negative sentiments."
   ]
  },
  {
   "cell_type": "code",
   "execution_count": 1,
   "metadata": {},
   "outputs": [
    {
     "name": "stdout",
     "output_type": "stream",
     "text": [
      "Number of sentences = 1000\n",
      "\n",
      "Data:\n",
      "                                            sentence  label\n",
      "0                           Wow... Loved this place.      1\n",
      "1                                 Crust is not good.      0\n",
      "2          Not tasty and the texture was just nasty.      0\n",
      "3  Stopped by during the late May bank holiday of...      1\n",
      "4  The selection on the menu was great and so wer...      1\n"
     ]
    }
   ],
   "source": [
    "import pandas as pd\n",
    "\n",
    "corpus = \"07-yelp-dataset.txt\"\n",
    "df = pd.read_csv(corpus, names=['sentence', 'label'], sep='\\t')\n",
    "print(\"Number of sentences =\", len(df))\n",
    "print(\"\\nData:\")\n",
    "print(df.iloc[:5])"
   ]
  },
  {
   "cell_type": "markdown",
   "metadata": {},
   "source": [
    "Next, let's create the train/dev/test partitions"
   ]
  },
  {
   "cell_type": "code",
   "execution_count": 2,
   "metadata": {},
   "outputs": [
    {
     "name": "stdout",
     "output_type": "stream",
     "text": [
      "1 Wow... Loved this place.\n",
      "0 I'm super pissd.\n",
      "0 Spend your money elsewhere.\n"
     ]
    }
   ],
   "source": [
    "import random\n",
    "import numpy as np\n",
    "\n",
    "sentences = df['sentence'].values\n",
    "labels = df['label'].values\n",
    "\n",
    "#partition data into 80/10/10 for train/dev/test\n",
    "sentences_train, y_train = sentences[:800], labels[:800]\n",
    "sentences_dev, y_dev = sentences[800:900], labels[800:900]\n",
    "sentences_test, y_test = sentences[900:1000], labels[900:1000]\n",
    "\n",
    "#convert label list into arrays\n",
    "y_train = np.array(y_train)\n",
    "y_dev = np.array(y_dev)\n",
    "y_test = np.array(y_test)\n",
    "\n",
    "print(y_train[0], sentences_train[0])\n",
    "print(y_dev[0], sentences_dev[0])\n",
    "print(y_test[0], sentences_test[0])"
   ]
  },
  {
   "cell_type": "markdown",
   "metadata": {},
   "source": [
    "Let's tokenize the text. In this workshop, we'll use the ``tokenizer`` function provided by keras. Once the data is tokenized, we can then use ``texts_to_matrix`` to get the bag-of-words representation for each document."
   ]
  },
  {
   "cell_type": "code",
   "execution_count": 3,
   "metadata": {},
   "outputs": [
    {
     "name": "stderr",
     "output_type": "stream",
     "text": [
      "Using TensorFlow backend.\n"
     ]
    },
    {
     "name": "stdout",
     "output_type": "stream",
     "text": [
      "(800, 1811)\n",
      "Vocab size = 1811\n",
      "[0. 0. 0. ... 0. 0. 0.]\n"
     ]
    }
   ],
   "source": [
    "from keras.preprocessing.text import Tokenizer\n",
    "\n",
    "tokenizer = Tokenizer(oov_token=\"<UNK>\")\n",
    "tokenizer.fit_on_texts(sentences_train)\n",
    "\n",
    "x_train = tokenizer.texts_to_matrix(sentences_train, mode=\"count\") #BOW representation\n",
    "x_dev = tokenizer.texts_to_matrix(sentences_dev, mode=\"count\") #BOW representation\n",
    "x_test = tokenizer.texts_to_matrix(sentences_test, mode=\"count\") #BOW representation\n",
    "\n",
    "vocab_size = x_train.shape[1]\n",
    "print(x_train.shape)\n",
    "print(\"Vocab size =\", vocab_size)\n",
    "print(x_train[0])"
   ]
  },
  {
   "cell_type": "markdown",
   "metadata": {},
   "source": [
    "Before we build a neural network model, let's see how well logistic regression do with this dataset."
   ]
  },
  {
   "cell_type": "code",
   "execution_count": 4,
   "metadata": {},
   "outputs": [
    {
     "name": "stdout",
     "output_type": "stream",
     "text": [
      "Accuracy: 0.69\n"
     ]
    }
   ],
   "source": [
    "from sklearn.linear_model import LogisticRegression\n",
    "\n",
    "classifier = LogisticRegression()\n",
    "classifier.fit(x_train, y_train)\n",
    "score = classifier.score(x_test, y_test)\n",
    "\n",
    "print(\"Accuracy:\", score)"
   ]
  },
  {
   "cell_type": "markdown",
   "metadata": {},
   "source": [
    "The logistic regression result is not too bad, and it will serve as a baseline for the deep learning models.\n",
    "\n",
    "Now let's build a very simple feedforward network. Here the input layer is the BOW features, and we have one hidden layer (dimension = 10) and an output layer in the model."
   ]
  },
  {
   "cell_type": "code",
   "execution_count": 5,
   "metadata": {},
   "outputs": [
    {
     "name": "stdout",
     "output_type": "stream",
     "text": [
      "Model: \"feedforward-bow-input\"\n",
      "_________________________________________________________________\n",
      "Layer (type)                 Output Shape              Param #   \n",
      "=================================================================\n",
      "dense_1 (Dense)              (None, 10)                18120     \n",
      "_________________________________________________________________\n",
      "dense_2 (Dense)              (None, 1)                 11        \n",
      "=================================================================\n",
      "Total params: 18,131\n",
      "Trainable params: 18,131\n",
      "Non-trainable params: 0\n",
      "_________________________________________________________________\n"
     ]
    }
   ],
   "source": [
    "from keras.models import Sequential\n",
    "from keras import layers\n",
    "\n",
    "#model definition\n",
    "model = Sequential(name=\"feedforward-bow-input\")\n",
    "model.add(layers.Dense(10, input_dim=vocab_size, activation='relu'))\n",
    "model.add(layers.Dense(1, activation='sigmoid'))\n",
    "\n",
    "#since it's a binary classification problem, we use a binary cross entropy loss here\n",
    "model.compile(loss='binary_crossentropy', optimizer='adam', metrics=['accuracy'])\n",
    "model.summary()"
   ]
  },
  {
   "cell_type": "markdown",
   "metadata": {},
   "source": [
    "Let's train the model. Notice that there are a few hyper-parameters here, e.g. hidden layer size, number of epochs and batch_size, and in practice these hyper-parameters should be tuned according to the development data to get an optimal model. In this workshop we'll use 20 epochs and a batch size of 10 (no further tuning). Once the model is trained, we'll compute the test accuracy performance."
   ]
  },
  {
   "cell_type": "code",
   "execution_count": 6,
   "metadata": {},
   "outputs": [
    {
     "name": "stdout",
     "output_type": "stream",
     "text": [
      "Train on 800 samples, validate on 100 samples\n",
      "Epoch 1/20\n",
      "800/800 [==============================] - 0s 432us/step - loss: 0.6835 - accuracy: 0.5738 - val_loss: 0.6771 - val_accuracy: 0.5800\n",
      "Epoch 2/20\n",
      "800/800 [==============================] - 0s 99us/step - loss: 0.6279 - accuracy: 0.7775 - val_loss: 0.6404 - val_accuracy: 0.6100\n",
      "Epoch 3/20\n",
      "800/800 [==============================] - 0s 92us/step - loss: 0.5372 - accuracy: 0.8512 - val_loss: 0.5832 - val_accuracy: 0.6900\n",
      "Epoch 4/20\n",
      "800/800 [==============================] - 0s 95us/step - loss: 0.4307 - accuracy: 0.9100 - val_loss: 0.5231 - val_accuracy: 0.7500\n",
      "Epoch 5/20\n",
      "800/800 [==============================] - 0s 91us/step - loss: 0.3380 - accuracy: 0.9463 - val_loss: 0.4890 - val_accuracy: 0.7400\n",
      "Epoch 6/20\n",
      "800/800 [==============================] - 0s 89us/step - loss: 0.2669 - accuracy: 0.9650 - val_loss: 0.4549 - val_accuracy: 0.7800\n",
      "Epoch 7/20\n",
      "800/800 [==============================] - 0s 84us/step - loss: 0.2124 - accuracy: 0.9750 - val_loss: 0.4246 - val_accuracy: 0.8100\n",
      "Epoch 8/20\n",
      "800/800 [==============================] - 0s 85us/step - loss: 0.1714 - accuracy: 0.9812 - val_loss: 0.4418 - val_accuracy: 0.7900\n",
      "Epoch 9/20\n",
      "800/800 [==============================] - 0s 85us/step - loss: 0.1403 - accuracy: 0.9875 - val_loss: 0.4118 - val_accuracy: 0.8200\n",
      "Epoch 10/20\n",
      "800/800 [==============================] - 0s 84us/step - loss: 0.1158 - accuracy: 0.9875 - val_loss: 0.4126 - val_accuracy: 0.8200\n",
      "Epoch 11/20\n",
      "800/800 [==============================] - 0s 84us/step - loss: 0.0970 - accuracy: 0.9912 - val_loss: 0.4126 - val_accuracy: 0.8100\n",
      "Epoch 12/20\n",
      "800/800 [==============================] - 0s 85us/step - loss: 0.0824 - accuracy: 0.9937 - val_loss: 0.4180 - val_accuracy: 0.7900\n",
      "Epoch 13/20\n",
      "800/800 [==============================] - 0s 83us/step - loss: 0.0700 - accuracy: 0.9950 - val_loss: 0.4122 - val_accuracy: 0.8000\n",
      "Epoch 14/20\n",
      "800/800 [==============================] - 0s 83us/step - loss: 0.0605 - accuracy: 0.9950 - val_loss: 0.4196 - val_accuracy: 0.7900\n",
      "Epoch 15/20\n",
      "800/800 [==============================] - 0s 83us/step - loss: 0.0524 - accuracy: 0.9975 - val_loss: 0.4181 - val_accuracy: 0.8100\n",
      "Epoch 16/20\n",
      "800/800 [==============================] - 0s 83us/step - loss: 0.0458 - accuracy: 0.9975 - val_loss: 0.4226 - val_accuracy: 0.8100\n",
      "Epoch 17/20\n",
      "800/800 [==============================] - 0s 85us/step - loss: 0.0404 - accuracy: 0.9987 - val_loss: 0.4306 - val_accuracy: 0.8100\n",
      "Epoch 18/20\n",
      "800/800 [==============================] - 0s 83us/step - loss: 0.0355 - accuracy: 0.9987 - val_loss: 0.4267 - val_accuracy: 0.8200\n",
      "Epoch 19/20\n",
      "800/800 [==============================] - 0s 90us/step - loss: 0.0317 - accuracy: 1.0000 - val_loss: 0.4307 - val_accuracy: 0.8200\n",
      "Epoch 20/20\n",
      "800/800 [==============================] - 0s 84us/step - loss: 0.0282 - accuracy: 1.0000 - val_loss: 0.4320 - val_accuracy: 0.8200\n",
      "\n",
      "Testing Accuracy:  0.7400\n"
     ]
    }
   ],
   "source": [
    "#training\n",
    "model.fit(x_train, y_train, epochs=20, verbose=True, validation_data=(x_dev, y_dev), batch_size=10)\n",
    "\n",
    "loss, accuracy = model.evaluate(x_test, y_test, verbose=False)\n",
    "print(\"\\nTesting Accuracy:  {:.4f}\".format(accuracy))"
   ]
  },
  {
   "cell_type": "markdown",
   "metadata": {},
   "source": [
    "How does the performance compare to logistic regression? If you run it a few times you may find that it gives slightly different numbers, and that is due to random initialisation of the model parameters."
   ]
  },
  {
   "cell_type": "markdown",
   "metadata": {},
   "source": [
    "Even though we did not explicitly define any word embeddings in the model architecture, they are in our model: in the weights between the input and the hidden layer. The hidden layer can therefore be interpreted as a sum of word embeddings for each input document.\n",
    "\n",
    "Let's fetch the word embeddings of some words, and look at their cosine similarity, and see if they make any sense."
   ]
  },
  {
   "cell_type": "code",
   "execution_count": 7,
   "metadata": {},
   "outputs": [
    {
     "name": "stdout",
     "output_type": "stream",
     "text": [
      "10\n",
      "[ 0.23626566  0.35327494  0.2273566   0.2975782  -0.23939022 -0.2554149\n",
      " -0.2522671  -0.17758775 -0.2757556  -0.18357718]\n",
      "love vs. like = 0.7028187\n",
      "love vs. lukewarm = -0.97351277\n",
      "love vs. bad = -0.96983844\n",
      "lukewarm vs. bad = 0.956362\n"
     ]
    }
   ],
   "source": [
    "from numpy import dot\n",
    "from numpy.linalg import norm\n",
    "\n",
    "embeddings = model.get_layer(index=0).get_weights()[0] #word embeddings layer\n",
    "print(len(embeddings[0]))\n",
    "\n",
    "emb_love = embeddings[tokenizer.word_index[\"love\"]] #embeddings for 'love'\n",
    "emb_like = embeddings[tokenizer.word_index[\"like\"]]\n",
    "emb_lukewarm = embeddings[tokenizer.word_index[\"lukewarm\"]]\n",
    "emb_bad = embeddings[tokenizer.word_index[\"bad\"]]\n",
    "\n",
    "print(emb_love)\n",
    "\n",
    "def cos_sim(a, b):\n",
    "    return dot(a, b)/(norm(a)*norm(b))\n",
    "\n",
    "print(\"love vs. like =\", cos_sim(emb_love, emb_like))\n",
    "print(\"love vs. lukewarm =\", cos_sim(emb_love, emb_lukewarm))\n",
    "print(\"love vs. bad =\", cos_sim(emb_love, emb_bad))\n",
    "print(\"lukewarm vs. bad =\", cos_sim(emb_lukewarm, emb_bad))"
   ]
  },
  {
   "cell_type": "markdown",
   "metadata": {},
   "source": [
    "Not bad. You should find that for *love* and *like*, which are both positive sentiment words, produce high cosine similarity. Similar observations for *lukewarm* and *bad*. But when we compare opposite polarity words like *love* and *bad*, we get negative cosine similarity values."
   ]
  },
  {
   "cell_type": "markdown",
   "metadata": {},
   "source": [
    "Next, we are going to build another feed-forward model, but this time, instead of using BOW features as input, we want to use the word sequence as input (so order of words is preserved). It is usually not straightforward to do this for classical machine learning models, but with neural networks and embeddings, it's pretty straightforward.\n",
    "\n",
    "Let's first tokenise the input documents into word sequences."
   ]
  },
  {
   "cell_type": "code",
   "execution_count": 8,
   "metadata": {},
   "outputs": [
    {
     "name": "stdout",
     "output_type": "stream",
     "text": [
      "['Wow... Loved this place.' 'Crust is not good.'\n",
      " 'Not tasty and the texture was just nasty.'\n",
      " 'Stopped by during the late May bank holiday off Rick Steve recommendation and loved it.'\n",
      " 'The selection on the menu was great and so were the prices.']\n",
      "[[354, 138, 9, 17], [475, 8, 13, 16], [13, 123, 3, 2, 476, 4, 48, 477], [478, 68, 299, 2, 479, 355, 762, 763, 185, 764, 765, 356, 3, 138, 10], [2, 139, 32, 2, 108, 4, 21, 3, 23, 27, 2, 140]]\n"
     ]
    }
   ],
   "source": [
    "#tokenise the input into word sequences\n",
    "\n",
    "xseq_train = tokenizer.texts_to_sequences(sentences_train)\n",
    "xseq_dev = tokenizer.texts_to_sequences(sentences_dev)\n",
    "xseq_test = tokenizer.texts_to_sequences(sentences_test)\n",
    "\n",
    "print(sentences_train[:5])\n",
    "print(xseq_train[:5])"
   ]
  },
  {
   "cell_type": "markdown",
   "metadata": {},
   "source": [
    "Because documents have variable lengths, we need to first 'pad' them to make all documents have the same length. keras uses word index 0 to represent 'pad symbols'."
   ]
  },
  {
   "cell_type": "code",
   "execution_count": 9,
   "metadata": {},
   "outputs": [
    {
     "name": "stdout",
     "output_type": "stream",
     "text": [
      "[354 138   9  17   0   0   0   0   0   0   0   0   0   0   0   0   0   0\n",
      "   0   0   0   0   0   0   0   0   0   0   0   0]\n",
      "(800, 30)\n"
     ]
    }
   ],
   "source": [
    "from keras.preprocessing.sequence import pad_sequences\n",
    "\n",
    "maxlen = 30\n",
    "xseq_train = pad_sequences(xseq_train, padding='post', maxlen=maxlen)\n",
    "xseq_dev = pad_sequences(xseq_dev, padding='post', maxlen=maxlen)\n",
    "xseq_test = pad_sequences(xseq_test, padding='post', maxlen=maxlen)\n",
    "print(xseq_train[0])\n",
    "print(xseq_train.shape)"
   ]
  },
  {
   "cell_type": "markdown",
   "metadata": {},
   "source": [
    "Now let's build our second model. This model first embeds each word in the input sequence into embeddings, and then concatenate the word embeddings together to represent input sequence. The ``Flatten`` function you see after the embedding layer is essentially doing the concatenation, by 'chaining' the list of word embeddings into a very long vector.\n",
    "\n",
    "If our word embeddings has a dimension 10, and our documents always have 30 words (padded), then here the concatenated word embeddings have a dimension of 10 x 30 = 300. \n",
    "\n",
    "The concatenated word embeddings undergo a linear transformation with non-linear activations (``layers.Dense(10, activation='relu')``), producing a hidden representation with a dimension of 10. It is then passed to the output layer."
   ]
  },
  {
   "cell_type": "code",
   "execution_count": 10,
   "metadata": {},
   "outputs": [
    {
     "name": "stdout",
     "output_type": "stream",
     "text": [
      "Model: \"feedforward-sequence-input\"\n",
      "_________________________________________________________________\n",
      "Layer (type)                 Output Shape              Param #   \n",
      "=================================================================\n",
      "embedding_1 (Embedding)      (None, 30, 10)            18110     \n",
      "_________________________________________________________________\n",
      "flatten_1 (Flatten)          (None, 300)               0         \n",
      "_________________________________________________________________\n",
      "dense_3 (Dense)              (None, 10)                3010      \n",
      "_________________________________________________________________\n",
      "dense_4 (Dense)              (None, 1)                 11        \n",
      "=================================================================\n",
      "Total params: 21,131\n",
      "Trainable params: 21,131\n",
      "Non-trainable params: 0\n",
      "_________________________________________________________________\n"
     ]
    }
   ],
   "source": [
    "embedding_dim = 10\n",
    "\n",
    "#word order preserved with this architecture\n",
    "model2 = Sequential(name=\"feedforward-sequence-input\")\n",
    "model2.add(layers.Embedding(input_dim=vocab_size, \n",
    "                           output_dim=embedding_dim, \n",
    "                           input_length=maxlen))\n",
    "model2.add(layers.Flatten())\n",
    "model2.add(layers.Dense(10, activation='relu'))\n",
    "model2.add(layers.Dense(1, activation='sigmoid'))\n",
    "model2.compile(optimizer='adam',\n",
    "              loss='binary_crossentropy',\n",
    "              metrics=['accuracy'])\n",
    "model2.summary()"
   ]
  },
  {
   "cell_type": "code",
   "execution_count": 17,
   "metadata": {},
   "outputs": [
    {
     "data": {
      "text/plain": [
       "(800, 30)"
      ]
     },
     "execution_count": 17,
     "metadata": {},
     "output_type": "execute_result"
    }
   ],
   "source": [
    "xseq_train.shape"
   ]
  },
  {
   "cell_type": "markdown",
   "metadata": {},
   "source": [
    "Now let's train the model and compute the test accuracy."
   ]
  },
  {
   "cell_type": "code",
   "execution_count": 12,
   "metadata": {},
   "outputs": [
    {
     "name": "stderr",
     "output_type": "stream",
     "text": [
      "/Library/Frameworks/Python.framework/Versions/3.7/lib/python3.7/site-packages/tensorflow_core/python/framework/indexed_slices.py:433: UserWarning: Converting sparse IndexedSlices to a dense Tensor of unknown shape. This may consume a large amount of memory.\n",
      "  \"Converting sparse IndexedSlices to a dense Tensor of unknown shape. \"\n"
     ]
    },
    {
     "name": "stdout",
     "output_type": "stream",
     "text": [
      "Train on 800 samples, validate on 100 samples\n",
      "Epoch 1/20\n",
      "800/800 [==============================] - 0s 297us/step - loss: 0.6881 - accuracy: 0.5663 - val_loss: 0.7021 - val_accuracy: 0.4400\n",
      "Epoch 2/20\n",
      "800/800 [==============================] - 0s 91us/step - loss: 0.6708 - accuracy: 0.6175 - val_loss: 0.7099 - val_accuracy: 0.4800\n",
      "Epoch 3/20\n",
      "800/800 [==============================] - 0s 85us/step - loss: 0.6197 - accuracy: 0.7275 - val_loss: 0.6781 - val_accuracy: 0.5700\n",
      "Epoch 4/20\n",
      "800/800 [==============================] - 0s 86us/step - loss: 0.4929 - accuracy: 0.8737 - val_loss: 0.6926 - val_accuracy: 0.5600\n",
      "Epoch 5/20\n",
      "800/800 [==============================] - 0s 92us/step - loss: 0.3194 - accuracy: 0.9400 - val_loss: 0.6139 - val_accuracy: 0.6700\n",
      "Epoch 6/20\n",
      "800/800 [==============================] - 0s 88us/step - loss: 0.1896 - accuracy: 0.9675 - val_loss: 0.6002 - val_accuracy: 0.6400\n",
      "Epoch 7/20\n",
      "800/800 [==============================] - 0s 86us/step - loss: 0.1224 - accuracy: 0.9775 - val_loss: 0.5615 - val_accuracy: 0.6900\n",
      "Epoch 8/20\n",
      "800/800 [==============================] - 0s 94us/step - loss: 0.0750 - accuracy: 0.9937 - val_loss: 0.5465 - val_accuracy: 0.6900\n",
      "Epoch 9/20\n",
      "800/800 [==============================] - 0s 94us/step - loss: 0.0495 - accuracy: 0.9975 - val_loss: 0.5644 - val_accuracy: 0.6600\n",
      "Epoch 10/20\n",
      "800/800 [==============================] - 0s 91us/step - loss: 0.0357 - accuracy: 0.9975 - val_loss: 0.5680 - val_accuracy: 0.6600\n",
      "Epoch 11/20\n",
      "800/800 [==============================] - 0s 84us/step - loss: 0.0245 - accuracy: 0.9987 - val_loss: 0.5887 - val_accuracy: 0.6500\n",
      "Epoch 12/20\n",
      "800/800 [==============================] - 0s 84us/step - loss: 0.0181 - accuracy: 1.0000 - val_loss: 0.5597 - val_accuracy: 0.6900\n",
      "Epoch 13/20\n",
      "800/800 [==============================] - 0s 82us/step - loss: 0.0141 - accuracy: 1.0000 - val_loss: 0.5873 - val_accuracy: 0.6800\n",
      "Epoch 14/20\n",
      "800/800 [==============================] - 0s 82us/step - loss: 0.0111 - accuracy: 1.0000 - val_loss: 0.5924 - val_accuracy: 0.6700\n",
      "Epoch 15/20\n",
      "800/800 [==============================] - 0s 81us/step - loss: 0.0088 - accuracy: 1.0000 - val_loss: 0.6162 - val_accuracy: 0.6600\n",
      "Epoch 16/20\n",
      "800/800 [==============================] - 0s 83us/step - loss: 0.0071 - accuracy: 1.0000 - val_loss: 0.6038 - val_accuracy: 0.6700\n",
      "Epoch 17/20\n",
      "800/800 [==============================] - 0s 83us/step - loss: 0.0059 - accuracy: 1.0000 - val_loss: 0.6346 - val_accuracy: 0.6600\n",
      "Epoch 18/20\n",
      "800/800 [==============================] - 0s 91us/step - loss: 0.0050 - accuracy: 1.0000 - val_loss: 0.6418 - val_accuracy: 0.6600\n",
      "Epoch 19/20\n",
      "800/800 [==============================] - 0s 100us/step - loss: 0.0043 - accuracy: 1.0000 - val_loss: 0.6371 - val_accuracy: 0.6700\n",
      "Epoch 20/20\n",
      "800/800 [==============================] - 0s 82us/step - loss: 0.0036 - accuracy: 1.0000 - val_loss: 0.6432 - val_accuracy: 0.6700\n",
      "Testing Accuracy:  0.7100\n"
     ]
    }
   ],
   "source": [
    "model2.fit(xseq_train, y_train, epochs=20, verbose=True, validation_data=(xseq_dev, y_dev), batch_size=10)\n",
    "\n",
    "loss, accuracy = model2.evaluate(xseq_test, y_test, verbose=False)\n",
    "print(\"Testing Accuracy:  {:.4f}\".format(accuracy))"
   ]
  },
  {
   "cell_type": "markdown",
   "metadata": {},
   "source": [
    "You may find that the performance isn't as good as the BOW model. In general, concatenating word embeddings isn't a good way to represent word sequence.\n",
    "\n",
    "A better way is to build a recurrent model. But first, let's extract the word embeddings for the 4 words as before and look at their similarity."
   ]
  },
  {
   "cell_type": "code",
   "execution_count": 13,
   "metadata": {},
   "outputs": [
    {
     "name": "stdout",
     "output_type": "stream",
     "text": [
      "love vs. like = 0.45001945\n",
      "love vs. lukewarm = 0.2256921\n",
      "love vs. bad = -0.3167041\n",
      "lukewarm vs. bad = 0.14528398\n"
     ]
    }
   ],
   "source": [
    "embeddings = model2.get_layer(index=0).get_weights()[0] #word embeddings\n",
    "\n",
    "emb_love = embeddings[tokenizer.word_index[\"love\"]]\n",
    "emb_like = embeddings[tokenizer.word_index[\"like\"]]\n",
    "emb_lukewarm = embeddings[tokenizer.word_index[\"lukewarm\"]]\n",
    "emb_bad = embeddings[tokenizer.word_index[\"bad\"]]\n",
    "\n",
    "print(\"love vs. like =\", cos_sim(emb_love, emb_like))\n",
    "print(\"love vs. lukewarm =\", cos_sim(emb_love, emb_lukewarm))\n",
    "print(\"love vs. bad =\", cos_sim(emb_love, emb_bad))\n",
    "print(\"lukewarm vs. bad =\", cos_sim(emb_lukewarm, emb_bad))"
   ]
  },
  {
   "cell_type": "code",
   "execution_count": 19,
   "metadata": {},
   "outputs": [
    {
     "data": {
      "text/plain": [
       "(1811, 10)"
      ]
     },
     "execution_count": 19,
     "metadata": {},
     "output_type": "execute_result"
    }
   ],
   "source": [
    "embeddings.shape"
   ]
  },
  {
   "cell_type": "markdown",
   "metadata": {},
   "source": [
    "Now, let's try to build an LSTM model. After the embeddings layer, the LSTM layer will process the words one at a time, and compute the next state (dimension for the hidden state = 10 in this case). The output of the LSTM layer is the final state, produced after processing the last word, and that will be fed to the output layer."
   ]
  },
  {
   "cell_type": "code",
   "execution_count": 14,
   "metadata": {},
   "outputs": [
    {
     "name": "stdout",
     "output_type": "stream",
     "text": [
      "Model: \"lstm\"\n",
      "_________________________________________________________________\n",
      "Layer (type)                 Output Shape              Param #   \n",
      "=================================================================\n",
      "embedding_2 (Embedding)      (None, 30, 10)            18110     \n",
      "_________________________________________________________________\n",
      "lstm_1 (LSTM)                (None, 10)                840       \n",
      "_________________________________________________________________\n",
      "dense_5 (Dense)              (None, 1)                 11        \n",
      "=================================================================\n",
      "Total params: 18,961\n",
      "Trainable params: 18,961\n",
      "Non-trainable params: 0\n",
      "_________________________________________________________________\n"
     ]
    }
   ],
   "source": [
    "from keras.layers import LSTM\n",
    "\n",
    "#word order preserved with this architecture\n",
    "model3 = Sequential(name=\"lstm\")\n",
    "model3.add(layers.Embedding(input_dim=vocab_size, \n",
    "                           output_dim=embedding_dim, \n",
    "                           input_length=maxlen))\n",
    "model3.add(LSTM(10))\n",
    "model3.add(layers.Dense(1, activation='sigmoid'))\n",
    "model3.compile(optimizer='adam',\n",
    "              loss='binary_crossentropy',\n",
    "              metrics=['accuracy'])\n",
    "model3.summary()"
   ]
  },
  {
   "cell_type": "markdown",
   "metadata": {},
   "source": [
    "Let's train the LSTM model and see the test performance."
   ]
  },
  {
   "cell_type": "code",
   "execution_count": 15,
   "metadata": {},
   "outputs": [
    {
     "name": "stderr",
     "output_type": "stream",
     "text": [
      "/Library/Frameworks/Python.framework/Versions/3.7/lib/python3.7/site-packages/tensorflow_core/python/framework/indexed_slices.py:433: UserWarning: Converting sparse IndexedSlices to a dense Tensor of unknown shape. This may consume a large amount of memory.\n",
      "  \"Converting sparse IndexedSlices to a dense Tensor of unknown shape. \"\n"
     ]
    },
    {
     "name": "stdout",
     "output_type": "stream",
     "text": [
      "Train on 800 samples, validate on 100 samples\n",
      "Epoch 1/20\n",
      "800/800 [==============================] - 1s 2ms/step - loss: 0.6869 - accuracy: 0.5650 - val_loss: 0.7164 - val_accuracy: 0.4400\n",
      "Epoch 2/20\n",
      "800/800 [==============================] - 1s 963us/step - loss: 0.6851 - accuracy: 0.5650 - val_loss: 0.7236 - val_accuracy: 0.4400\n",
      "Epoch 3/20\n",
      "800/800 [==============================] - 1s 981us/step - loss: 0.6697 - accuracy: 0.5713 - val_loss: 0.6789 - val_accuracy: 0.4700\n",
      "Epoch 4/20\n",
      "800/800 [==============================] - 1s 926us/step - loss: 0.4216 - accuracy: 0.8512 - val_loss: 0.5176 - val_accuracy: 0.7900\n",
      "Epoch 5/20\n",
      "800/800 [==============================] - 1s 955us/step - loss: 0.2429 - accuracy: 0.9287 - val_loss: 0.6174 - val_accuracy: 0.7800\n",
      "Epoch 6/20\n",
      "800/800 [==============================] - 1s 913us/step - loss: 0.1598 - accuracy: 0.9575 - val_loss: 0.5024 - val_accuracy: 0.8100\n",
      "Epoch 7/20\n",
      "800/800 [==============================] - 1s 975us/step - loss: 0.1067 - accuracy: 0.9750 - val_loss: 0.7624 - val_accuracy: 0.7700\n",
      "Epoch 8/20\n",
      "800/800 [==============================] - 1s 976us/step - loss: 0.0766 - accuracy: 0.9850 - val_loss: 0.6266 - val_accuracy: 0.8000\n",
      "Epoch 9/20\n",
      "800/800 [==============================] - 1s 893us/step - loss: 0.0758 - accuracy: 0.9812 - val_loss: 0.6951 - val_accuracy: 0.8100\n",
      "Epoch 10/20\n",
      "800/800 [==============================] - 1s 906us/step - loss: 0.0464 - accuracy: 0.9900 - val_loss: 0.5881 - val_accuracy: 0.8100\n",
      "Epoch 11/20\n",
      "800/800 [==============================] - 1s 899us/step - loss: 0.0364 - accuracy: 0.9937 - val_loss: 0.6537 - val_accuracy: 0.8100\n",
      "Epoch 12/20\n",
      "800/800 [==============================] - 1s 907us/step - loss: 0.0286 - accuracy: 0.9950 - val_loss: 0.8415 - val_accuracy: 0.7900\n",
      "Epoch 13/20\n",
      "800/800 [==============================] - 1s 908us/step - loss: 0.0169 - accuracy: 0.9975 - val_loss: 0.9581 - val_accuracy: 0.7800\n",
      "Epoch 14/20\n",
      "800/800 [==============================] - 1s 897us/step - loss: 0.0549 - accuracy: 0.9862 - val_loss: 0.7728 - val_accuracy: 0.8200\n",
      "Epoch 15/20\n",
      "800/800 [==============================] - 1s 916us/step - loss: 0.0164 - accuracy: 0.9975 - val_loss: 0.7529 - val_accuracy: 0.8000\n",
      "Epoch 16/20\n",
      "800/800 [==============================] - 1s 1ms/step - loss: 0.0076 - accuracy: 1.0000 - val_loss: 0.7942 - val_accuracy: 0.8200\n",
      "Epoch 17/20\n",
      "800/800 [==============================] - 1s 938us/step - loss: 0.0062 - accuracy: 1.0000 - val_loss: 0.8378 - val_accuracy: 0.8100\n",
      "Epoch 18/20\n",
      "800/800 [==============================] - 1s 959us/step - loss: 0.0053 - accuracy: 1.0000 - val_loss: 0.8687 - val_accuracy: 0.8100\n",
      "Epoch 19/20\n",
      "800/800 [==============================] - 1s 953us/step - loss: 0.0046 - accuracy: 1.0000 - val_loss: 0.8947 - val_accuracy: 0.8000\n",
      "Epoch 20/20\n",
      "800/800 [==============================] - 1s 929us/step - loss: 0.0041 - accuracy: 1.0000 - val_loss: 0.9201 - val_accuracy: 0.8000\n",
      "Testing Accuracy:  0.7300\n"
     ]
    }
   ],
   "source": [
    "model3.fit(xseq_train, y_train, epochs=20, verbose=True, validation_data=(xseq_dev, y_dev), batch_size=10)\n",
    "\n",
    "loss, accuracy = model3.evaluate(xseq_test, y_test, verbose=False)\n",
    "print(\"Testing Accuracy:  {:.4f}\".format(accuracy))"
   ]
  },
  {
   "cell_type": "markdown",
   "metadata": {},
   "source": [
    "You should notice that the training is quite a bit slower, and that's because now the model has to process the sequence one word at a time. But the results should be better!\n",
    "\n",
    "And lastly, let's extract the embeddings and look at the their similarity."
   ]
  },
  {
   "cell_type": "code",
   "execution_count": 16,
   "metadata": {},
   "outputs": [
    {
     "name": "stdout",
     "output_type": "stream",
     "text": [
      "love vs. like = 0.59158075\n",
      "love vs. lukewarm = -0.83444756\n",
      "love vs. bad = -0.9356726\n",
      "lukewarm vs. bad = 0.8281923\n"
     ]
    }
   ],
   "source": [
    "embeddings = model3.get_layer(index=0).get_weights()[0] #word embeddings\n",
    "\n",
    "emb_love = embeddings[tokenizer.word_index[\"love\"]]\n",
    "emb_like = embeddings[tokenizer.word_index[\"like\"]]\n",
    "emb_lukewarm = embeddings[tokenizer.word_index[\"lukewarm\"]]\n",
    "emb_bad = embeddings[tokenizer.word_index[\"bad\"]]\n",
    "\n",
    "print(\"love vs. like =\", cos_sim(emb_love, emb_like))\n",
    "print(\"love vs. lukewarm =\", cos_sim(emb_love, emb_lukewarm))\n",
    "print(\"love vs. bad =\", cos_sim(emb_love, emb_bad))\n",
    "print(\"lukewarm vs. bad =\", cos_sim(emb_lukewarm, emb_bad))"
   ]
  },
  {
   "cell_type": "code",
   "execution_count": null,
   "metadata": {},
   "outputs": [],
   "source": []
  }
 ],
 "metadata": {
  "kernelspec": {
   "display_name": "Python 3",
   "language": "python",
   "name": "python3"
  },
  "language_info": {
   "codemirror_mode": {
    "name": "ipython",
    "version": 3
   },
   "file_extension": ".py",
   "mimetype": "text/x-python",
   "name": "python",
   "nbconvert_exporter": "python",
   "pygments_lexer": "ipython3",
   "version": "3.7.0"
  }
 },
 "nbformat": 4,
 "nbformat_minor": 2
}
